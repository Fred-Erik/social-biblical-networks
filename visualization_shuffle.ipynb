{
 "cells": [
  {
   "cell_type": "markdown",
   "metadata": {},
   "source": [
    "# Pick random visualizations"
   ]
  },
  {
   "cell_type": "code",
   "execution_count": 63,
   "metadata": {
    "collapsed": false
   },
   "outputs": [],
   "source": [
    "import os\n",
    "from random import randint\n",
    "from shutil import copy2\n",
    "\n",
    "passages = [30,34,63,69,110,40,90,106,111,2,36,81,60,70,21]\n",
    "selected_passages_files = []\n",
    "all_passages_files = []\n",
    "\n",
    "importpath = \"c:/Frederik/Afstuderen/Results/test14/results/visualization/\"\n",
    "exportpath = \"c:/Frederik/Afstuderen/Results/test14/results/visualization_test/\""
   ]
  },
  {
   "cell_type": "code",
   "execution_count": 64,
   "metadata": {
    "collapsed": false
   },
   "outputs": [],
   "source": [
    "for passage in passages:\n",
    "    selected_passages_files.append([filename for filename in os.listdir(importpath) if filename.startswith(str(passage).zfill(3))])\n",
    "\n",
    "all_passages_files = os.listdir(importpath)"
   ]
  },
  {
   "cell_type": "code",
   "execution_count": 65,
   "metadata": {
    "collapsed": false
   },
   "outputs": [],
   "source": [
    "for i, passage in enumerate(passages):\n",
    "    i2 = str(i+1).zfill(2)\n",
    "    exp = exportpath + i2\n",
    "    if not os.path.exists(exp):\n",
    "        os.makedirs(exp)\n",
    "\n",
    "    # parallel passages\n",
    "    copy2(importpath + selected_passages_files[i][0], \"{}{}_{}\".format(exportpath, i2, selected_passages_files[i][0]))\n",
    "    copy2(importpath + selected_passages_files[i][1], exp)\n",
    "\n",
    "    # six random passages\n",
    "    r_passages = [i]\n",
    "    for j in range(6):\n",
    "        while True:\n",
    "            r_passage = randint(1,117)\n",
    "            if r_passage not in r_passages:\n",
    "                r_passages.append(r_passage)\n",
    "                break\n",
    "        copy2(importpath + all_passages_files[r_passage], exp)"
   ]
  },
  {
   "cell_type": "code",
   "execution_count": null,
   "metadata": {
    "collapsed": true
   },
   "outputs": [],
   "source": []
  }
 ],
 "metadata": {
  "kernelspec": {
   "display_name": "Python 3",
   "language": "python",
   "name": "python3"
  },
  "language_info": {
   "codemirror_mode": {
    "name": "ipython",
    "version": 3
   },
   "file_extension": ".py",
   "mimetype": "text/x-python",
   "name": "python",
   "nbconvert_exporter": "python",
   "pygments_lexer": "ipython3",
   "version": "3.4.3"
  }
 },
 "nbformat": 4,
 "nbformat_minor": 0
}
