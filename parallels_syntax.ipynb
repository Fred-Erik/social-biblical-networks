{
 "cells": [
  {
   "cell_type": "markdown",
   "metadata": {},
   "source": [
    "This notebook will convert the parallels in the syntax of the file appendixParallels.csv to the format used by the co-occurrence generator program."
   ]
  },
  {
   "cell_type": "code",
   "execution_count": null,
   "metadata": {
    "collapsed": true
   },
   "outputs": [],
   "source": [
    "'''\n",
    "passages = {\n",
    "    \"Reges_II\": [18, 13, 19,37],\n",
    "    \"Chronica_II\": [32, 9, 32, 19]\n",
    "}\n",
    "\n",
    "regex\n",
    "---\n",
    "search:\n",
    "(\\w+) (\\d+)(:(\\d+)(\\-(\\d+))?)?\\t(\\w+) (\\d+)(:(\\d+)(\\-(\\d+))?)?\\n\n",
    "\n",
    "replace:\n",
    "boek1 $1 hfd1 $2 versbegin1 $4 verseind1 $6\\n\n",
    "boek2 $7 hfd2 $8 versbegin2 $10 verseind2 $12\\n\n",
    "\n",
    "passages = \\{\\n\n",
    "\\t\"$1\": \\[, , ,\\],\\n\n",
    "\\t\"\": \\[, , ,\\]\\n\n",
    "\\}\n",
    "'''"
   ]
  },
  {
   "cell_type": "code",
   "execution_count": 7,
   "metadata": {
    "collapsed": false
   },
   "outputs": [
    {
     "name": "stdout",
     "output_type": "stream",
     "text": [
      "klaarr\n"
     ]
    }
   ],
   "source": [
    "import os\n",
    "import re\n",
    "\n",
    "path = 'c:/Frederik/Afstuderen/Results/test14/passages/'\n",
    "oldfilename = 'input.csv'\n",
    "newfilename = 'output.csv'\n",
    "newfilename2 = 'output2.csv'\n",
    "f_old = open(path+oldfilename, 'r')\n",
    "f_new = open(path+newfilename, 'w')\n",
    "f_new2 = open(path+newfilename2, 'w')\n",
    "\n",
    "search1 = re.compile(r\"\"\"(?P<book1>\\w+)\\s\n",
    "                   (?P<chapter1>\\d+)\n",
    "                   (:(?P<verse1start>\\d+)\n",
    "                   (\\-(?P<verse1end>\\d+))?)?\n",
    "                   \\t\n",
    "                   (?P<book2>\\w+)\\s\n",
    "                   (?P<chapter2>\\d+)\n",
    "                   (:(?P<verse2start>\\d+)\n",
    "                   (\\-(?P<verse2end>\\d+))?)?\n",
    "                   \\n\"\"\", re.X)\n",
    "search2 = re.compile(r\"\"\"(?P<book1>[A-Za-z_]+)\n",
    "                    [^A-Za-z_]+\n",
    "                    (?P<book2>[A-Za-z_]+)\n",
    "                    \"\"\", re.X)\n",
    "\n",
    "f_new.write(\"allpassages = [\")\n",
    "f_new2.write(\"allpassages = [\")\n",
    "\n",
    "counter = 0\n",
    "\n",
    "for line in f_old:\n",
    "    counter += 1\n",
    "    \n",
    "    # regel aanpassen aan de nieuwe notatie met regex\n",
    "    #for search, replace in zip(searches, replaces):\n",
    "    #    new = re.sub(search, replace, line)\n",
    "\n",
    "    # search for occurrence, return matches\n",
    "    match = search1.search(line)\n",
    "    match2 = search2.search(line)\n",
    "    \n",
    "    if match:\n",
    "        book1 = match.groupdict()[\"book1\"]\n",
    "        book2 = match.groupdict()[\"book2\"]\n",
    "        chapter1 = match.groupdict()[\"chapter1\"]\n",
    "        chapter2 = match.groupdict()[\"chapter2\"]\n",
    "        verse1start = match.groupdict()[\"verse1start\"]\n",
    "        verse2start = match.groupdict()[\"verse2start\"]\n",
    "        verse1end = match.groupdict()[\"verse1end\"]\n",
    "        verse2end = match.groupdict()[\"verse2end\"]\n",
    "\n",
    "        if not verse1start and not verse1end:\n",
    "            verse1start = str(1)\n",
    "            verse1end = str(-1)\n",
    "        elif verse1start and not verse1end:\n",
    "            verse1end = verse1start\n",
    "\n",
    "        if not verse2start and not verse2end:\n",
    "            verse2start = str(1)\n",
    "            verse2end = str(-1)\n",
    "        elif verse2start and not verse2end:\n",
    "            verse2end = verse2start\n",
    "\n",
    "        outline = (\"\"\"\\\"\\\"\\\"{{\n",
    "    \\\"{}\\\": [{}, {}, {},{}],\n",
    "    \\\"{}\\\": [{}, {}, {}, {}]\n",
    "}}\\\"\\\"\\\",\"\"\".format(            \n",
    "                book1, chapter1, verse1start, chapter1, verse1end,\n",
    "                book2, chapter2, verse2start, chapter2, verse2end\n",
    "            )\n",
    "        )\n",
    "        f_new.write(outline)\n",
    "        \n",
    "    elif match2:\n",
    "        book1 = match2.groupdict()[\"book1\"]\n",
    "        book2 = match2.groupdict()[\"book2\"]\n",
    "        \n",
    "        outline = (\"\"\"\\\"\\\"\\\"{{\n",
    "    \\\"{}\\\": [, , ,],\n",
    "    \\\"{}\\\": [, , ,]\n",
    "}}\\\"\\\"\\\",\"\"\".format(            \n",
    "                book1,\n",
    "                book2\n",
    "            )\n",
    "        )\n",
    "        f_new2.write(outline)\n",
    "    else:\n",
    "        print(line)\n",
    "\n",
    "f_new.write(\"\\n]\")\n",
    "f_new2.write(\"\\n]\")\n",
    "        \n",
    "print('klaarr')"
   ]
  },
  {
   "cell_type": "code",
   "execution_count": null,
   "metadata": {
    "collapsed": true
   },
   "outputs": [],
   "source": []
  }
 ],
 "metadata": {
  "kernelspec": {
   "display_name": "Python 3",
   "language": "python",
   "name": "python3"
  },
  "language_info": {
   "codemirror_mode": {
    "name": "ipython",
    "version": 3
   },
   "file_extension": ".py",
   "mimetype": "text/x-python",
   "name": "python",
   "nbconvert_exporter": "python",
   "pygments_lexer": "ipython3",
   "version": "3.4.3"
  }
 },
 "nbformat": 4,
 "nbformat_minor": 0
}
